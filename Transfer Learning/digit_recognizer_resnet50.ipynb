{
  "nbformat": 4,
  "nbformat_minor": 0,
  "metadata": {
    "colab": {
      "provenance": [],
      "toc_visible": true,
      "gpuType": "T4"
    },
    "kernelspec": {
      "name": "python3",
      "display_name": "Python 3"
    },
    "language_info": {
      "name": "python"
    },
    "accelerator": "GPU"
  },
  "cells": [
    {
      "cell_type": "markdown",
      "source": [
        "# MNIST Digits Classification using Transfer Learning with ResNet50 model\n",
        "\n"
      ],
      "metadata": {
        "id": "8iJFdJRa6XE0"
      }
    },
    {
      "cell_type": "markdown",
      "source": [
        "# Data Pre-Processing"
      ],
      "metadata": {
        "id": "QpGn4ZzvDIVq"
      }
    },
    {
      "cell_type": "markdown",
      "source": [
        "## Imports\n"
      ],
      "metadata": {
        "id": "F5QOGfpxM5vL"
      }
    },
    {
      "cell_type": "code",
      "execution_count": 1,
      "metadata": {
        "id": "3Z5XdSw7JA7M"
      },
      "outputs": [],
      "source": [
        "import torch\n",
        "import torch.nn as nn\n",
        "import torch.optim as optim\n",
        "from torch.utils.data import DataLoader\n",
        "import torchvision.transforms as transforms\n",
        "import torchvision.models as models\n",
        "from torchvision.datasets import MNIST\n",
        "from sklearn.metrics import classification_report"
      ]
    },
    {
      "cell_type": "markdown",
      "source": [
        "## Loading the MNIST Dataset\n",
        "\n",
        "\n",
        "\n",
        "\n"
      ],
      "metadata": {
        "id": "x8y4IB2QTKQq"
      }
    },
    {
      "cell_type": "code",
      "source": [
        "# Custom transform to convert MNIST to RGB and resize\n",
        "transform = transforms.Compose([\n",
        "    transforms.ToTensor(),\n",
        "    transforms.Lambda(lambda x: x.repeat(3, 1, 1)),  # Convert grayscale to RGB\n",
        "    transforms.Resize((224, 224)),  # Resize to 224x224\n",
        "    transforms.Normalize(mean=[0.485, 0.456, 0.406], std=[0.229, 0.224, 0.225])  # ImageNet normalization\n",
        "])\n",
        "\n",
        "# Load MNIST dataset\n",
        "train_dataset = MNIST(root='./data', train=True, download=True, transform=transform)\n",
        "test_dataset = MNIST(root='./data', train=False, download=True, transform=transform)\n",
        "\n",
        "# Create data loaders\n",
        "train_loader = DataLoader(train_dataset, batch_size=32, shuffle=True)\n",
        "test_loader = DataLoader(test_dataset, batch_size=32, shuffle=False)\n",
        "\n",
        "print(f\"Training samples: {len(train_dataset)}\")\n",
        "print(f\"Test samples: {len(test_dataset)}\")"
      ],
      "metadata": {
        "colab": {
          "base_uri": "https://localhost:8080/"
        },
        "id": "8zjXeHv6OjUU",
        "outputId": "b275cfe2-2918-4404-a974-0620b84ea723"
      },
      "execution_count": 2,
      "outputs": [
        {
          "output_type": "stream",
          "name": "stderr",
          "text": [
            "100%|██████████| 9.91M/9.91M [00:00<00:00, 12.6MB/s]\n",
            "100%|██████████| 28.9k/28.9k [00:00<00:00, 342kB/s]\n",
            "100%|██████████| 1.65M/1.65M [00:00<00:00, 3.17MB/s]\n",
            "100%|██████████| 4.54k/4.54k [00:00<00:00, 5.97MB/s]"
          ]
        },
        {
          "output_type": "stream",
          "name": "stdout",
          "text": [
            "Training samples: 60000\n",
            "Test samples: 10000\n"
          ]
        },
        {
          "output_type": "stream",
          "name": "stderr",
          "text": [
            "\n"
          ]
        }
      ]
    },
    {
      "cell_type": "markdown",
      "source": [
        "# Model Architecture"
      ],
      "metadata": {
        "id": "3QhD09fi5jk0"
      }
    },
    {
      "cell_type": "markdown",
      "source": [
        "## Defining the model"
      ],
      "metadata": {
        "id": "9TMu4c_4RxOu"
      }
    },
    {
      "cell_type": "code",
      "source": [
        "class MNISTResNet50(nn.Module):\n",
        "    def __init__(self, num_classes=10, freeze_base=True):\n",
        "        super(MNISTResNet50, self).__init__()\n",
        "\n",
        "        # Load pre-trained ResNet50\n",
        "        self.resnet = models.resnet50(pretrained=True)\n",
        "\n",
        "        # Remove the final classification layer\n",
        "        self.resnet = nn.Sequential(*list(self.resnet.children())[:-1])\n",
        "\n",
        "        # Freeze base model if specified\n",
        "        if freeze_base:\n",
        "            for param in self.resnet.parameters():\n",
        "                param.requires_grad = False\n",
        "\n",
        "        # Add custom classification head\n",
        "        self.classifier = nn.Sequential(\n",
        "            nn.Flatten(),\n",
        "            nn.Linear(2048, 128),  # ResNet50 final feature size is 2048\n",
        "            nn.ReLU(),\n",
        "            nn.Linear(128, num_classes)\n",
        "        )\n",
        "\n",
        "    def forward(self, x):\n",
        "        features = self.resnet(x)\n",
        "        output = self.classifier(features)\n",
        "        return output\n",
        "\n",
        "    def unfreeze_base(self):\n",
        "        \"\"\"Unfreeze base ResNet50 layers for fine-tuning\"\"\"\n",
        "        for param in self.resnet.parameters():\n",
        "            param.requires_grad = True\n",
        "\n",
        "# Initialize model\n",
        "device = torch.device('cuda' if torch.cuda.is_available() else 'cpu')\n",
        "model = MNISTResNet50(freeze_base=True).to(device)\n",
        "\n",
        "# Count parameters\n",
        "total_params = sum(p.numel() for p in model.parameters())\n",
        "trainable_params = sum(p.numel() for p in model.parameters() if p.requires_grad)\n",
        "\n",
        "print(f\"Device: {device}\")\n",
        "print(f\"Total parameters: {total_params:,}\")\n",
        "print(f\"Trainable parameters: {trainable_params:,}\")"
      ],
      "metadata": {
        "colab": {
          "base_uri": "https://localhost:8080/"
        },
        "id": "4VCSWj66PCUF",
        "outputId": "4f4b7231-a451-4d8b-f1cc-5469225dd21a"
      },
      "execution_count": 3,
      "outputs": [
        {
          "output_type": "stream",
          "name": "stderr",
          "text": [
            "/usr/local/lib/python3.11/dist-packages/torchvision/models/_utils.py:208: UserWarning: The parameter 'pretrained' is deprecated since 0.13 and may be removed in the future, please use 'weights' instead.\n",
            "  warnings.warn(\n",
            "/usr/local/lib/python3.11/dist-packages/torchvision/models/_utils.py:223: UserWarning: Arguments other than a weight enum or `None` for 'weights' are deprecated since 0.13 and may be removed in the future. The current behavior is equivalent to passing `weights=ResNet50_Weights.IMAGENET1K_V1`. You can also use `weights=ResNet50_Weights.DEFAULT` to get the most up-to-date weights.\n",
            "  warnings.warn(msg)\n",
            "Downloading: \"https://download.pytorch.org/models/resnet50-0676ba61.pth\" to /root/.cache/torch/hub/checkpoints/resnet50-0676ba61.pth\n",
            "100%|██████████| 97.8M/97.8M [00:00<00:00, 103MB/s]\n"
          ]
        },
        {
          "output_type": "stream",
          "name": "stdout",
          "text": [
            "Device: cuda\n",
            "Total parameters: 23,771,594\n",
            "Trainable parameters: 263,562\n"
          ]
        }
      ]
    },
    {
      "cell_type": "markdown",
      "source": [
        "## Training & Evaluation functions"
      ],
      "metadata": {
        "id": "lFYYMpuhR3XE"
      }
    },
    {
      "cell_type": "code",
      "source": [
        "def train_epoch(model, train_loader, criterion, optimizer, device):\n",
        "    model.train()\n",
        "    running_loss = 0.0\n",
        "    correct = 0\n",
        "    total = 0\n",
        "\n",
        "    for batch_idx, (data, target) in enumerate(train_loader):\n",
        "        data, target = data.to(device), target.to(device)\n",
        "\n",
        "        optimizer.zero_grad()\n",
        "        output = model(data)\n",
        "        loss = criterion(output, target)\n",
        "        loss.backward()\n",
        "        optimizer.step()\n",
        "\n",
        "        running_loss += loss.item()\n",
        "        _, predicted = torch.max(output.data, 1)\n",
        "        total += target.size(0)\n",
        "        correct += (predicted == target).sum().item()\n",
        "\n",
        "        if batch_idx % 500 == 0:\n",
        "            print(f'Batch {batch_idx}, Loss: {loss.item():.4f}')\n",
        "\n",
        "    epoch_loss = running_loss / len(train_loader)\n",
        "    epoch_acc = 100. * correct / total\n",
        "    return epoch_loss, epoch_acc\n",
        "\n",
        "def evaluate(model, test_loader, criterion, device):\n",
        "    model.eval()\n",
        "    test_loss = 0.0\n",
        "    correct = 0\n",
        "    total = 0\n",
        "\n",
        "    with torch.no_grad():\n",
        "        for data, target in test_loader:\n",
        "            data, target = data.to(device), target.to(device)\n",
        "            output = model(data)\n",
        "            test_loss += criterion(output, target).item()\n",
        "            _, predicted = torch.max(output.data, 1)\n",
        "            total += target.size(0)\n",
        "            correct += (predicted == target).sum().item()\n",
        "\n",
        "    test_loss /= len(test_loader)\n",
        "    test_acc = 100. * correct / total\n",
        "    return test_loss, test_acc\n"
      ],
      "metadata": {
        "id": "LhZV2EnNSBQc"
      },
      "execution_count": 5,
      "outputs": []
    },
    {
      "cell_type": "markdown",
      "source": [
        "# Model Training"
      ],
      "metadata": {
        "id": "2bEVFw9DaNNm"
      }
    },
    {
      "cell_type": "markdown",
      "source": [
        "## Initial Training (Frozen Base)"
      ],
      "metadata": {
        "id": "zzmXvfCgSJEi"
      }
    },
    {
      "cell_type": "code",
      "source": [
        "# Setup for initial training\n",
        "criterion = nn.CrossEntropyLoss()\n",
        "optimizer = optim.Adam(model.parameters(), lr=0.001)\n",
        "\n",
        "print(\"Starting initial training with frozen base layers...\")\n",
        "print(\"=\"*50)\n",
        "\n",
        "# Train for 5 epochs with frozen base\n",
        "for epoch in range(5):\n",
        "    train_loss, train_acc = train_epoch(model, train_loader, criterion, optimizer, device)\n",
        "    test_loss, test_acc = evaluate(model, test_loader, criterion, device)\n",
        "\n",
        "    print(f'Epoch {epoch+1}/5:')\n",
        "    print(f'  Train Loss: {train_loss:.4f}, Train Acc: {train_acc:.2f}%')\n",
        "    print(f'  Test Loss: {test_loss:.4f}, Test Acc: {test_acc:.2f}%')\n",
        "    print('-' * 30)\n",
        "\n",
        "initial_accuracy = test_acc\n",
        "print(f\"Initial training completed. Test accuracy: {initial_accuracy:.2f}%\")\n"
      ],
      "metadata": {
        "colab": {
          "base_uri": "https://localhost:8080/"
        },
        "id": "cdyb9r0XSE6b",
        "outputId": "90bc3e34-761e-46c9-f01b-fb85d013ac72"
      },
      "execution_count": 6,
      "outputs": [
        {
          "output_type": "stream",
          "name": "stdout",
          "text": [
            "Starting initial training with frozen base layers...\n",
            "==================================================\n",
            "Batch 0, Loss: 2.3040\n",
            "Batch 500, Loss: 0.2492\n",
            "Batch 1000, Loss: 0.2247\n",
            "Batch 1500, Loss: 0.1147\n",
            "Epoch 1/5:\n",
            "  Train Loss: 0.4101, Train Acc: 87.31%\n",
            "  Test Loss: 0.1891, Test Acc: 94.14%\n",
            "------------------------------\n",
            "Batch 0, Loss: 0.4773\n",
            "Batch 500, Loss: 0.1643\n",
            "Batch 1000, Loss: 0.6642\n",
            "Batch 1500, Loss: 0.1579\n",
            "Epoch 2/5:\n",
            "  Train Loss: 0.2288, Train Acc: 92.63%\n",
            "  Test Loss: 0.2093, Test Acc: 93.06%\n",
            "------------------------------\n",
            "Batch 0, Loss: 0.2829\n",
            "Batch 500, Loss: 0.4529\n",
            "Batch 1000, Loss: 0.3190\n",
            "Batch 1500, Loss: 0.1951\n",
            "Epoch 3/5:\n",
            "  Train Loss: 0.2053, Train Acc: 93.27%\n",
            "  Test Loss: 0.1355, Test Acc: 95.72%\n",
            "------------------------------\n",
            "Batch 0, Loss: 0.3996\n",
            "Batch 500, Loss: 0.0510\n",
            "Batch 1000, Loss: 0.1436\n",
            "Batch 1500, Loss: 0.1295\n",
            "Epoch 4/5:\n",
            "  Train Loss: 0.1806, Train Acc: 94.16%\n",
            "  Test Loss: 0.1732, Test Acc: 94.43%\n",
            "------------------------------\n",
            "Batch 0, Loss: 0.1716\n",
            "Batch 500, Loss: 0.0188\n",
            "Batch 1000, Loss: 0.1068\n",
            "Batch 1500, Loss: 0.1034\n",
            "Epoch 5/5:\n",
            "  Train Loss: 0.1686, Train Acc: 94.47%\n",
            "  Test Loss: 0.1381, Test Acc: 95.36%\n",
            "------------------------------\n",
            "Initial training completed. Test accuracy: 95.36%\n"
          ]
        }
      ]
    },
    {
      "cell_type": "markdown",
      "source": [
        "## Fine-tuning (Unfrozen Base)"
      ],
      "metadata": {
        "id": "YMxSxDQGSM93"
      }
    },
    {
      "cell_type": "code",
      "source": [
        "# Unfreeze base model for fine-tuning\n",
        "model.unfreeze_base()\n",
        "\n",
        "# Use lower learning rate for fine-tuning\n",
        "optimizer = optim.Adam(model.parameters(), lr=0.0001)\n",
        "\n",
        "# Count trainable parameters after unfreezing\n",
        "trainable_params = sum(p.numel() for p in model.parameters() if p.requires_grad)\n",
        "print(f\"Fine-tuning - Trainable parameters: {trainable_params:,}\")\n",
        "\n",
        "print(\"\\nStarting fine-tuning with unfrozen base layers...\")\n",
        "print(\"=\"*50)\n",
        "\n",
        "# Fine-tune for 3 epochs\n",
        "for epoch in range(3):\n",
        "    train_loss, train_acc = train_epoch(model, train_loader, criterion, optimizer, device)\n",
        "    test_loss, test_acc = evaluate(model, test_loader, criterion, device)\n",
        "\n",
        "    print(f'Fine-tune Epoch {epoch+1}/3:')\n",
        "    print(f'  Train Loss: {train_loss:.4f}, Train Acc: {train_acc:.2f}%')\n",
        "    print(f'  Test Loss: {test_loss:.4f}, Test Acc: {test_acc:.2f}%')\n",
        "    print('-' * 30)\n",
        "\n",
        "final_accuracy = test_acc\n",
        "print(f\"Fine-tuning completed. Final test accuracy: {final_accuracy:.2f}%\")\n"
      ],
      "metadata": {
        "colab": {
          "base_uri": "https://localhost:8080/"
        },
        "id": "lixH8H3-SNK3",
        "outputId": "fee55452-c386-4ebb-f923-2cf56c18a224"
      },
      "execution_count": null,
      "outputs": [
        {
          "output_type": "stream",
          "name": "stdout",
          "text": [
            "Fine-tuning - Trainable parameters: 23,771,594\n",
            "\n",
            "Starting fine-tuning with unfrozen base layers...\n",
            "==================================================\n",
            "Batch 0, Loss: 0.0682\n",
            "Batch 500, Loss: 0.0118\n",
            "Batch 1000, Loss: 0.0264\n",
            "Batch 1500, Loss: 0.0528\n",
            "Fine-tune Epoch 1/3:\n",
            "  Train Loss: 0.0684, Train Acc: 98.05%\n",
            "  Test Loss: 0.0236, Test Acc: 99.16%\n",
            "------------------------------\n",
            "Batch 0, Loss: 0.0064\n",
            "Batch 500, Loss: 0.0043\n",
            "Batch 1000, Loss: 0.0181\n",
            "Batch 1500, Loss: 0.0037\n",
            "Fine-tune Epoch 2/3:\n",
            "  Train Loss: 0.0331, Train Acc: 98.98%\n",
            "  Test Loss: 0.0278, Test Acc: 99.24%\n",
            "------------------------------\n",
            "Batch 0, Loss: 0.0093\n",
            "Batch 500, Loss: 0.0009\n",
            "Batch 1000, Loss: 0.0469\n",
            "Batch 1500, Loss: 0.0005\n"
          ]
        }
      ]
    },
    {
      "cell_type": "markdown",
      "source": [
        "# Model Evaluation"
      ],
      "metadata": {
        "id": "dws1lbBKaRrC"
      }
    },
    {
      "cell_type": "code",
      "source": [
        "def detailed_evaluation(model, test_loader, device):\n",
        "    model.eval()\n",
        "    all_predicted = []\n",
        "    all_targets = []\n",
        "    sample_confidences = []\n",
        "\n",
        "    with torch.no_grad():\n",
        "        for i, (data, target) in enumerate(test_loader):\n",
        "            data, target = data.to(device), target.to(device)\n",
        "            output = model(data)\n",
        "            probabilities = torch.softmax(output, dim=1)\n",
        "            _, predicted = torch.max(output, 1)\n",
        "\n",
        "            all_predicted.extend(predicted.cpu().numpy())\n",
        "            all_targets.extend(target.cpu().numpy())\n",
        "\n",
        "            # Collect sample confidences for first batch\n",
        "            if i == 0:\n",
        "                for j in range(min(10, len(probabilities))):\n",
        "                    confidence = torch.max(probabilities[j]).item()\n",
        "                    sample_confidences.append((predicted[j].item(), target[j].item(), confidence))\n",
        "\n",
        "    return all_predicted, all_targets, sample_confidences\n",
        "\n",
        "# Perform detailed evaluation\n",
        "predicted, targets, sample_conf = detailed_evaluation(model, test_loader, device)\n",
        "\n",
        "print(\"\\nSample predictions vs actual:\")\n",
        "for i, (pred, actual, conf) in enumerate(sample_conf):\n",
        "    print(f\"Image {i}: Predicted={pred}, Actual={actual}, Confidence={conf:.3f}\")\n",
        "\n",
        "print(f\"\\nOverall Accuracy: {final_accuracy:.2f}%\")\n",
        "print(f\"Improvement from fine-tuning: {final_accuracy - initial_accuracy:.2f}%\")\n",
        "\n",
        "# Classification report\n",
        "print(\"\\nClassification Report:\")\n",
        "print(classification_report(targets, predicted))"
      ],
      "metadata": {
        "colab": {
          "base_uri": "https://localhost:8080/"
        },
        "id": "ml-xvJAWSSWy",
        "outputId": "671187f1-7935-4d75-fcb5-23348597326e"
      },
      "execution_count": 9,
      "outputs": [
        {
          "output_type": "stream",
          "name": "stdout",
          "text": [
            "\n",
            "Sample predictions vs actual:\n",
            "Image 0: Predicted=7, Actual=7, Confidence=1.000\n",
            "Image 1: Predicted=2, Actual=2, Confidence=0.999\n",
            "Image 2: Predicted=1, Actual=1, Confidence=1.000\n",
            "Image 3: Predicted=0, Actual=0, Confidence=1.000\n",
            "Image 4: Predicted=4, Actual=4, Confidence=1.000\n",
            "Image 5: Predicted=1, Actual=1, Confidence=1.000\n",
            "Image 6: Predicted=4, Actual=4, Confidence=0.996\n",
            "Image 7: Predicted=9, Actual=9, Confidence=0.998\n",
            "Image 8: Predicted=5, Actual=5, Confidence=1.000\n",
            "Image 9: Predicted=9, Actual=9, Confidence=1.000\n",
            "\n",
            "Overall Accuracy: 99.23%\n",
            "Improvement from fine-tuning: 3.87%\n",
            "\n",
            "Classification Report:\n",
            "              precision    recall  f1-score   support\n",
            "\n",
            "           0       0.98      1.00      0.99       980\n",
            "           1       0.99      1.00      1.00      1135\n",
            "           2       0.99      0.99      0.99      1032\n",
            "           3       1.00      0.99      0.99      1010\n",
            "           4       0.99      0.99      0.99       982\n",
            "           5       0.99      0.99      0.99       892\n",
            "           6       1.00      0.99      0.99       958\n",
            "           7       0.99      0.99      0.99      1028\n",
            "           8       1.00      0.98      0.99       974\n",
            "           9       0.99      0.99      0.99      1009\n",
            "\n",
            "    accuracy                           0.99     10000\n",
            "   macro avg       0.99      0.99      0.99     10000\n",
            "weighted avg       0.99      0.99      0.99     10000\n",
            "\n"
          ]
        }
      ]
    }
  ]
}